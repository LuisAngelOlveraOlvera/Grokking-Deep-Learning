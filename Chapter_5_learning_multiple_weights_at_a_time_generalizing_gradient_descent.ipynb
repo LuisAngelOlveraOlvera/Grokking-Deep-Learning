{
  "nbformat": 4,
  "nbformat_minor": 0,
  "metadata": {
    "colab": {
      "provenance": [],
      "authorship_tag": "ABX9TyNGnBSTkJyv5dnExX4jtMFG",
      "include_colab_link": true
    },
    "kernelspec": {
      "name": "python3",
      "display_name": "Python 3"
    },
    "language_info": {
      "name": "python"
    }
  },
  "cells": [
    {
      "cell_type": "markdown",
      "metadata": {
        "id": "view-in-github",
        "colab_type": "text"
      },
      "source": [
        "<a href=\"https://colab.research.google.com/github/LuisAngelOlveraOlvera/Grokking-Deep-Learning/blob/main/Chapter_5_learning_multiple_weights_at_a_time_generalizing_gradient_descent.ipynb\" target=\"_parent\"><img src=\"https://colab.research.google.com/assets/colab-badge.svg\" alt=\"Open In Colab\"/></a>"
      ]
    },
    {
      "cell_type": "code",
      "execution_count": null,
      "metadata": {
        "id": "rxH7_mOng8lC"
      },
      "outputs": [],
      "source": [
        "# 1 An empty network with multiple inputs\n",
        "\n",
        "def w_sum(a,b):\n",
        "  assert (len(a) == len(b))\n",
        "\n",
        "  output = 0\n",
        "\n",
        "  for i in range(len(a)):\n",
        "    output += a[i] * b[i]\n",
        "\n",
        "  return output\n",
        "\n",
        "weights = [0.1, 0.2, -0.1]\n",
        "\n",
        "def neural_networks(input, weights):\n",
        "  pred = w_sum(input, weights)\n",
        "  return pred\n"
      ]
    },
    {
      "cell_type": "code",
      "source": [
        "# 2 PREDICT + COMPARE: Making a prediction, and calculating error and delta\n",
        "toes =  [8.5 , 9.5, 9.9, 9.0]\n",
        "wlrec = [0.65, 0.8, 0.8, 0.9]\n",
        "nfans = [1.2 , 1.3, 0.5, 1.0]\n",
        "win_or_lose_binary = [1] # [won]\n",
        "\n",
        "true = win_or_lose_binary[0]\n",
        "print(\"true: \", true)\n",
        "\n",
        "input = [toes[0], wlrec[0], nfans[0]]\n",
        "pred = neural_networks(input, weights)\n",
        "error = (pred - true) ** 2\n",
        "delta = pred - true\n",
        "print(\"pred: \",pred, \"error: \",error, \"delta: \", delta)"
      ],
      "metadata": {
        "colab": {
          "base_uri": "https://localhost:8080/"
        },
        "id": "v0SiKmy-i7Z-",
        "outputId": "cfbaeb0d-f455-4d60-c069-f8adb4e23fb7"
      },
      "execution_count": null,
      "outputs": [
        {
          "output_type": "stream",
          "name": "stdout",
          "text": [
            "true:  1\n",
            "pred:  0.8676777104548048 error:  0.017509188310482475 delta:  -0.1323222895451952\n"
          ]
        }
      ]
    },
    {
      "cell_type": "code",
      "source": [
        "# 3 LEARN: Calculating each weight_delta and putting it on each weight\n",
        "def ele_mul(number, vector):\n",
        "  output = [0,0,0]\n",
        "  assert(len(output) == len(vector))\n",
        "\n",
        "  for i in range(len(vector)):\n",
        "    output[i] = number * vector[i]\n",
        "\n",
        "  return output\n",
        "\n",
        "input = [toes[0], wlrec[0], nfans[0]]\n",
        "pred = neural_networks(input, weights)\n",
        "error = (pred - true) ** 2\n",
        "delta = pred - true\n",
        "\n",
        "weight_deltas = ele_mul(delta, input)\n",
        "print(weight_deltas)"
      ],
      "metadata": {
        "colab": {
          "base_uri": "https://localhost:8080/"
        },
        "id": "mVK0GUO3jogj",
        "outputId": "c5f8ebe0-0203-4c36-81f7-41fd0308e494"
      },
      "execution_count": null,
      "outputs": [
        {
          "output_type": "stream",
          "name": "stdout",
          "text": [
            "[-1.189999999999999, -0.09099999999999994, -0.16799999999999987]\n"
          ]
        }
      ]
    },
    {
      "cell_type": "code",
      "source": [
        "# 4 LEARN: Updating the weights\n",
        "input = [toes[0], wlrec[0], nfans[0]]\n",
        "pred = neural_networks(input, weights)\n",
        "error = (pred - true) ** 2\n",
        "delta = pred - true\n",
        "weights_deltas = ele_mul(delta, input)\n",
        "print(\"weight_deltas\", weight_deltas)\n",
        "\n",
        "initial_weights = [0.1, 0.2, -0.1]\n",
        "\n",
        "# Cálculo de la actualización de los pesos utilizando el descenso de gradiente\n",
        "alpha = 0.01\n",
        "for i in range(len(weights)):\n",
        "    weights[i] = initial_weights[i] - alpha * weight_deltas[i]\n",
        "\n",
        "# Imprimir los valores de initial_weights y alpha * weight_deltas para verificar\n",
        "for i in range(len(weights)):\n",
        "    print(\"initial_weights[\" + str(i) + \"]:\", initial_weights[i])\n",
        "    print(\"alpha * weight_deltas[\" + str(i) + \"]:\", alpha * weight_deltas[i])\n",
        "\n",
        "# Imprimir los pesos actualizados\n",
        "print(\"Weights:\", weights)\n",
        "\n",
        "\n"
      ],
      "metadata": {
        "colab": {
          "base_uri": "https://localhost:8080/"
        },
        "id": "RJHozN0WsDy6",
        "outputId": "6b92c8f9-ba85-4a01-9857-1e7e4e35ba3f"
      },
      "execution_count": null,
      "outputs": [
        {
          "output_type": "stream",
          "name": "stdout",
          "text": [
            "weight_deltas [-1.189999999999999, -0.09099999999999994, -0.16799999999999987]\n",
            "initial_weights[0]: 0.1\n",
            "alpha * weight_deltas[0]: -0.01189999999999999\n",
            "initial_weights[1]: 0.2\n",
            "alpha * weight_deltas[1]: -0.0009099999999999995\n",
            "initial_weights[2]: -0.1\n",
            "alpha * weight_deltas[2]: -0.0016799999999999988\n",
            "Weights: [0.1119, 0.20091, -0.09832]\n"
          ]
        }
      ]
    },
    {
      "cell_type": "code",
      "source": [
        "# Delta de nodo único\n",
        "delta = 0.5\n",
        "\n",
        "# Pesos correspondientes a tres entradas\n",
        "weights = [0.2, -0.1, 0.4]\n",
        "\n",
        "# Calculamos los weight_delta valores\n",
        "weight_deltas = [delta * weight for weight in weights]\n",
        "\n",
        "# Mostramos los weight_delta valores resultantes\n",
        "print(\"Weight Delta Values:\", weight_deltas)"
      ],
      "metadata": {
        "colab": {
          "base_uri": "https://localhost:8080/"
        },
        "id": "DyFT6UGE8eSm",
        "outputId": "a6bfcc55-cc9c-47a0-b369-0eac2bfa60ec"
      },
      "execution_count": null,
      "outputs": [
        {
          "output_type": "stream",
          "name": "stdout",
          "text": [
            "Weight Delta Values: [0.1, -0.05, 0.2]\n"
          ]
        }
      ]
    },
    {
      "cell_type": "code",
      "source": [
        "# Función para calcular la salida de la red neuronal\n",
        "def neural_network(input, weights):\n",
        "    out = 0\n",
        "    for i in range(len(input)):\n",
        "        out += (input[i] * weights[i])\n",
        "    return out\n",
        "\n",
        "# Función para multiplicar un escalar por un vector\n",
        "def ele_mul(scalar, vector):\n",
        "    out = [0, 0, 0]\n",
        "    for i in range(len(out)):\n",
        "        out[i] = vector[i] * scalar\n",
        "    return out\n",
        "\n",
        "# Listas de características de entrada\n",
        "toes = [8.5, 9.5, 9.9, 9.0]\n",
        "wlrec = [0.65, 0.8, 0.8, 0.9]\n",
        "nfans = [1.2, 1.3, 0.5, 1.0]\n",
        "\n",
        "# Resultados esperados (1 para ganar, 0 para perder)\n",
        "win_or_lose_binary = [1, 1, 0, 1]\n",
        "true = win_or_lose_binary[0]\n",
        "\n",
        "# Valor de aprendizaje\n",
        "alpha = 0.01\n",
        "\n",
        "# Pesos iniciales\n",
        "weights = [0.1, 0.2, -0.1]\n",
        "\n",
        "# Lista de entrada para la primera iteración\n",
        "input = [toes[0], wlrec[0], nfans[0]]\n",
        "\n",
        "# Iteraciones de aprendizaje\n",
        "for iter in range(3):\n",
        "    # Predicción de la red neuronal\n",
        "    pred = neural_network(input, weights)\n",
        "    # Cálculo del error cuadrático\n",
        "    error = (pred - true) ** 2\n",
        "    # Cálculo del delta entre la predicción y el valor esperado\n",
        "    delta = pred - true\n",
        "    # Cálculo de los deltas de peso\n",
        "    weight_deltas = ele_mul(delta, input)\n",
        "\n",
        "    # Impresión de los resultados de la iteración\n",
        "    print(\"\\nIteración:\", iter+1)\n",
        "    print(\"Predicción:\", pred)\n",
        "    print(\"Error:\", error)\n",
        "    print(\"Delta:\", delta)\n",
        "    print(\"Pesos:\", weights)\n",
        "    print(\"Deltas de peso:\", weight_deltas)\n",
        "\n",
        "    # Actualización de los pesos\n",
        "    for i in range(len(weights)):\n",
        "        weights[i] -= alpha * weight_deltas[i]\n",
        "        print(\"\\nPesos actualizados:\", weights)"
      ],
      "metadata": {
        "colab": {
          "base_uri": "https://localhost:8080/"
        },
        "id": "NlFqwrSk-nXA",
        "outputId": "90b3d01f-c810-40ff-f472-31e82d1933a8"
      },
      "execution_count": null,
      "outputs": [
        {
          "output_type": "stream",
          "name": "stdout",
          "text": [
            "\n",
            "Iteración: 1\n",
            "Predicción: 0.8600000000000001\n",
            "Error: 0.01959999999999997\n",
            "Delta: -0.1399999999999999\n",
            "Pesos: [0.1, 0.2, -0.1]\n",
            "Deltas de peso: [-1.189999999999999, -0.09099999999999994, -0.16799999999999987]\n",
            "\n",
            "Pesos actualizados: [0.1119, 0.2, -0.1]\n",
            "\n",
            "Pesos actualizados: [0.1119, 0.20091, -0.1]\n",
            "\n",
            "Pesos actualizados: [0.1119, 0.20091, -0.09832]\n",
            "\n",
            "Iteración: 2\n",
            "Predicción: 0.9637574999999999\n",
            "Error: 0.0013135188062500048\n",
            "Delta: -0.036242500000000066\n",
            "Pesos: [0.1119, 0.20091, -0.09832]\n",
            "Deltas de peso: [-0.30806125000000056, -0.023557625000000044, -0.04349100000000008]\n",
            "\n",
            "Pesos actualizados: [0.11498061250000001, 0.20091, -0.09832]\n",
            "\n",
            "Pesos actualizados: [0.11498061250000001, 0.20114557625, -0.09832]\n",
            "\n",
            "Pesos actualizados: [0.11498061250000001, 0.20114557625, -0.09788509000000001]\n",
            "\n",
            "Iteración: 3\n",
            "Predicción: 0.9906177228125002\n",
            "Error: 8.802712522307997e-05\n",
            "Delta: -0.009382277187499843\n",
            "Pesos: [0.11498061250000001, 0.20114557625, -0.09788509000000001]\n",
            "Deltas de peso: [-0.07974935609374867, -0.006098480171874899, -0.011258732624999811]\n",
            "\n",
            "Pesos actualizados: [0.1157781060609375, 0.20114557625, -0.09788509000000001]\n",
            "\n",
            "Pesos actualizados: [0.1157781060609375, 0.20120656105171877, -0.09788509000000001]\n",
            "\n",
            "Pesos actualizados: [0.1157781060609375, 0.20120656105171877, -0.09777250267375001]\n"
          ]
        }
      ]
    },
    {
      "cell_type": "code",
      "source": [
        "# Freezing one weight: What does it do?\n",
        "# Función para calcular la salida de la red neuronal\n",
        "def neural_network(input, weights):\n",
        "    out = 0\n",
        "    for i in range(len(input)):\n",
        "        out += (input[i] * weights[i])\n",
        "    return out\n",
        "\n",
        "# Función para multiplicar un escalar por un vector\n",
        "def ele_mul(scalar, vector):\n",
        "    out = [0, 0, 0]\n",
        "    for i in range(len(out)):\n",
        "        out[i] = vector[i] * scalar\n",
        "    return out\n",
        "\n",
        "# Listas de características de entrada\n",
        "toes = [8.5, 9.5, 9.9, 9.0]\n",
        "wlrec = [0.65, 0.8, 0.8, 0.9]\n",
        "nfans = [1.2, 1.3, 0.5, 1.0]\n",
        "\n",
        "# Resultados esperados (1 para ganar, 0 para perder)\n",
        "win_or_lose_binary = [1, 1, 0, 1]\n",
        "true = win_or_lose_binary[0]\n",
        "\n",
        "# Valor de aprendizaje\n",
        "alpha = 0.01\n",
        "\n",
        "# Pesos iniciales\n",
        "weights = [0.1, 0.2, -0.1]\n",
        "\n",
        "# Lista de entrada para la primera iteración\n",
        "input = [toes[0], wlrec[0], nfans[0]]\n",
        "\n",
        "# Iteraciones de aprendizaje\n",
        "for iter in range(3):\n",
        "    # Predicción de la red neuronal\n",
        "    pred = neural_network(input, weights)\n",
        "    # Cálculo del error cuadrático\n",
        "    error = (pred - true) ** 2\n",
        "    # Cálculo del delta entre la predicción y el valor esperado\n",
        "    delta = pred - true\n",
        "    # Cálculo de los deltas de peso\n",
        "    weight_deltas = ele_mul(delta, input)\n",
        "    weight_deltas[0] = 0\n",
        "\n",
        "    # Impresión de los resultados de la iteración\n",
        "    print(\"\\nIteración:\", iter+1)\n",
        "    print(\"Predicción:\", pred)\n",
        "    print(\"Error:\", error)\n",
        "    print(\"Delta:\", delta)\n",
        "    print(\"Pesos:\", weights)\n",
        "    print(\"Deltas de peso:\", weight_deltas)\n",
        "\n",
        "    # Actualización de los pesos\n",
        "    for i in range(len(weights)):\n",
        "        weights[i] -= alpha * weight_deltas[i]\n",
        "        print(\"\\nPesos actualizados:\", weights)"
      ],
      "metadata": {
        "colab": {
          "base_uri": "https://localhost:8080/"
        },
        "id": "73T7OHDfCgSf",
        "outputId": "abfe103e-f42e-4421-d3ec-c3ce9d2b066b"
      },
      "execution_count": null,
      "outputs": [
        {
          "output_type": "stream",
          "name": "stdout",
          "text": [
            "\n",
            "Iteración: 1\n",
            "Predicción: 0.8600000000000001\n",
            "Error: 0.01959999999999997\n",
            "Delta: -0.1399999999999999\n",
            "Pesos: [0.1, 0.2, -0.1]\n",
            "Deltas de peso: [0, -0.09099999999999994, -0.16799999999999987]\n",
            "\n",
            "Pesos actualizados: [0.1, 0.2, -0.1]\n",
            "\n",
            "Pesos actualizados: [0.1, 0.20091, -0.1]\n",
            "\n",
            "Pesos actualizados: [0.1, 0.20091, -0.09832]\n",
            "\n",
            "Iteración: 2\n",
            "Predicción: 0.8626075000000001\n",
            "Error: 0.018876699056249977\n",
            "Delta: -0.13739249999999992\n",
            "Pesos: [0.1, 0.20091, -0.09832]\n",
            "Deltas de peso: [0, -0.08930512499999994, -0.1648709999999999]\n",
            "\n",
            "Pesos actualizados: [0.1, 0.20091, -0.09832]\n",
            "\n",
            "Pesos actualizados: [0.1, 0.20180305125, -0.09832]\n",
            "\n",
            "Pesos actualizados: [0.1, 0.20180305125, -0.09667129]\n",
            "\n",
            "Iteración: 3\n",
            "Predicción: 0.8651664353125001\n",
            "Error: 0.018180090166338207\n",
            "Delta: -0.13483356468749985\n",
            "Pesos: [0.1, 0.20180305125, -0.09667129]\n",
            "Deltas de peso: [0, -0.0876418170468749, -0.16180027762499982]\n",
            "\n",
            "Pesos actualizados: [0.1, 0.20180305125, -0.09667129]\n",
            "\n",
            "Pesos actualizados: [0.1, 0.20267946942046874, -0.09667129]\n",
            "\n",
            "Pesos actualizados: [0.1, 0.20267946942046874, -0.09505328722375]\n"
          ]
        }
      ]
    },
    {
      "cell_type": "code",
      "source": [
        "# Gradient descent learning with multiple outputs\n",
        "weights = [0.3, 0.2, 0.9]\n",
        "def neural_network(input, weights):\n",
        "  pred = ele_mul(input,weights)\n",
        "  return pred\n",
        "\n",
        "wlrec = [0.65, 1.0, 1.0, 0.9]\n",
        "hurt = [0.1, 0.0, 0.0, 0.1]\n",
        "win = [ 1, 1, 0, 1]\n",
        "sad = [0.1, 0.0, 0.1, 0.2]\n",
        "\n",
        "input = wlrec[0]\n",
        "true = [hurt[0], win[0], sad[0]]\n",
        "\n",
        "pred = neural_network(input,weights)\n",
        "print(\"pred\", pred)\n",
        "\n",
        "error = [0, 0, 0]\n",
        "delta = [0, 0, 0]\n",
        "\n",
        "for i in range(len(true)):\n",
        "  error[i] = (pred[i] - true[i]) ** 2\n",
        "  delta[i] = pred[i] - true[i]\n",
        "  print(\"i,\", i,\"error\", error)\n",
        "  print(\"i\", i, \"delta\", delta)"
      ],
      "metadata": {
        "colab": {
          "base_uri": "https://localhost:8080/"
        },
        "id": "JtXBEQHeDg0e",
        "outputId": "1a7767bb-1977-47a8-d44a-d7d567dfa3f6"
      },
      "execution_count": null,
      "outputs": [
        {
          "output_type": "stream",
          "name": "stdout",
          "text": [
            "pred [0.195, 0.13, 0.5850000000000001]\n",
            "i, 0 error [0.009025, 0, 0]\n",
            "i 0 delta [0.095, 0, 0]\n",
            "i, 1 error [0.009025, 0.7569, 0]\n",
            "i 1 delta [0.095, -0.87, 0]\n",
            "i, 2 error [0.009025, 0.7569, 0.2352250000000001]\n",
            "i 2 delta [0.095, -0.87, 0.4850000000000001]\n"
          ]
        }
      ]
    },
    {
      "cell_type": "code",
      "source": [
        "def scalar_ele_mul(number,vector):\n",
        "  output = [0,0,0]\n",
        "  assert(len(output) == len(vector))\n",
        "  for i in range(len(vector)):\n",
        "    output[i] = number * vector[i]\n",
        "  return output\n",
        "\n",
        "wlrec = [0.65, 1.0, 1.0, 0.9]\n",
        "hurt = [0.1, 0.0, 0.0, 0.1]\n",
        "win = [ 1, 1, 0, 1]\n",
        "sad = [0.1, 0.0, 0.1, 0.2]\n",
        "input = wlrec[0]\n",
        "true = [hurt[0], win[0], sad[0]]\n",
        "pred = neural_network(input,weights)\n",
        "error = [0, 0, 0]\n",
        "delta = [0, 0, 0]\n",
        "for i in range(len(true)):\n",
        "  error[i] = (pred[i] - true[i]) ** 2\n",
        "  delta[i] = pred[i] - true[i]\n",
        "weight_deltas = scalar_ele_mul(input,weights)"
      ],
      "metadata": {
        "id": "ixaKHPjcLJe3"
      },
      "execution_count": null,
      "outputs": []
    },
    {
      "cell_type": "code",
      "source": [
        "input = wlrec[0]\n",
        "true = [hurt[0], win[0], sad[0]]\n",
        "pred = neural_network(input,weights)\n",
        "error = [0, 0, 0]\n",
        "delta = [0, 0, 0]\n",
        "for i in range(len(true)):\n",
        "  error[i] = (pred[i] - true[i]) ** 2\n",
        "  delta[i] = pred[i] - true[i]\n",
        "\n",
        "weight_deltas = scalar_ele_mul(input,weights)\n",
        "alpha = 0.1\n",
        "for i in range(len(weights)):\n",
        "  weights[i] -= (weight_deltas[i] * alpha)\n",
        "print(\"Weights:\" + str(weights))\n",
        "print(\"Weight Deltas:\" + str(weight_deltas))"
      ],
      "metadata": {
        "colab": {
          "base_uri": "https://localhost:8080/"
        },
        "id": "68Mrog3HLb1o",
        "outputId": "c51eb9a6-5711-407d-e6f6-4e9af0cf5914"
      },
      "execution_count": null,
      "outputs": [
        {
          "output_type": "stream",
          "name": "stdout",
          "text": [
            "Weights:[0.28049999999999997, 0.187, 0.8415]\n",
            "Weight Deltas:[0.195, 0.13, 0.5850000000000001]\n"
          ]
        }
      ]
    }
  ]
}