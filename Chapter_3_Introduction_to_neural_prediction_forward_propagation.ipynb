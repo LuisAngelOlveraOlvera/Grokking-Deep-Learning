{
  "nbformat": 4,
  "nbformat_minor": 0,
  "metadata": {
    "colab": {
      "provenance": [],
      "authorship_tag": "ABX9TyMrUiD9yVZTKVmAmO5cq9Wx",
      "include_colab_link": true
    },
    "kernelspec": {
      "name": "python3",
      "display_name": "Python 3"
    },
    "language_info": {
      "name": "python"
    }
  },
  "cells": [
    {
      "cell_type": "markdown",
      "metadata": {
        "id": "view-in-github",
        "colab_type": "text"
      },
      "source": [
        "<a href=\"https://colab.research.google.com/github/LuisAngelOlveraOlvera/Grokking-Deep-Learning/blob/main/Chapter_3_Introduction_to_neural_prediction_forward_propagation.ipynb\" target=\"_parent\"><img src=\"https://colab.research.google.com/assets/colab-badge.svg\" alt=\"Open In Colab\"/></a>"
      ]
    },
    {
      "cell_type": "code",
      "execution_count": 3,
      "metadata": {
        "colab": {
          "base_uri": "https://localhost:8080/"
        },
        "id": "irnlhMQOApOD",
        "outputId": "3d67d551-1ad8-4573-b3ed-f45b11a9b53b"
      },
      "outputs": [
        {
          "output_type": "stream",
          "name": "stdout",
          "text": [
            "0.8500000000000001\n"
          ]
        }
      ],
      "source": [
        "# Example of basic neural network:\n",
        "\n",
        "weight = 0.1\n",
        "\n",
        "# the network\n",
        "def neural_network(input, weight):\n",
        "  prediction = input * weight\n",
        "  return prediction\n",
        "\n",
        "# how you see the network to predict something\n",
        "number_of_toes = [8.5, 9.5, 10, 9]\n",
        "input = number_of_toes[0]\n",
        "pred = neural_network(input, weight)\n",
        "print(pred)"
      ]
    },
    {
      "cell_type": "code",
      "source": [
        "# Making a prediction with multiple inputs\n",
        "\n",
        "# performing a weighted sum of inputs\n",
        "def w_sum(a,b):\n",
        "  assert(len(a) == len(b))\n",
        "  output = 0\n",
        "  for i in range(len(a)):\n",
        "    output += a[i] * b[i]\n",
        "  return output\n",
        "\n",
        "# An empty network with multiples inputs\n",
        "weights = [0.1, 0.2, 0]\n",
        "def neural_network(input, weights):\n",
        "  pred = w_sum(input, weights)\n",
        "  return pred\n",
        "\n",
        "# inserting one input datapoint\n",
        "toes = [8.5, 9.5, 9.9, 9.0]\n",
        "wlrec = [0.65, 0.8, 0.8, 0.9]\n",
        "nfans = [1.2, 1.3, 0.5, 1.0]\n",
        "\n",
        "input = [toes[0], wlrec[0], nfans[0]]\n",
        "pred = neural_network(input, weights)\n",
        "\n",
        "# Depositing the prediction\n",
        "print(pred)\n",
        "\n",
        "\n",
        "#Inputs Weights Local predictions\n",
        "# (8.50 * 0.1) = 0.85 = toes prediction\n",
        "# (0.65 * 0.2) = 0.13 = wlrec prediction\n",
        "# (1.20 * 0.0) = 0.00 = fans prediction\n",
        "# toes prediction + wlrec prediction + fans prediction = final prediction\n",
        "# 0.85 + 0.13 + 0.00 = 0.98"
      ],
      "metadata": {
        "colab": {
          "base_uri": "https://localhost:8080/"
        },
        "id": "1IVrT0-zKGAK",
        "outputId": "7661a682-c539-485c-aecb-ff2debd9767a"
      },
      "execution_count": 10,
      "outputs": [
        {
          "output_type": "stream",
          "name": "stdout",
          "text": [
            "0.9800000000000001\n"
          ]
        }
      ]
    },
    {
      "cell_type": "code",
      "source": [
        "# Challenge Vector Math\n",
        "def elementwise_multiplication(vec_a, vec_b):\n",
        "  assert(len(vec_a) == len(vec_b))\n",
        "  output = []\n",
        "  for i in range(len(vec_a)):\n",
        "    output.append(vec_a[i] * vec_b[i])\n",
        "  return output\n",
        "vec_a = [1, 2, 3]\n",
        "vec_b = [4, 5, 6]\n",
        "print(elementwise_multiplication(vec_a, vec_b))\n",
        "\n",
        "def elementwise_addition(vec_a, vec_b):\n",
        "  assert(len(vec_a) == len(vec_b))\n",
        "  output = []\n",
        "  for i in range(len(vec_a)):\n",
        "    output.append(vec_a[i] + vec_b[i])\n",
        "  return output\n",
        "\n",
        "print(elementwise_addition(vec_a, vec_b))\n",
        "\n",
        "def vector_sum(vec_a):\n",
        "  output = 0\n",
        "  for i in range(len(vec_a)):\n",
        "    output += vec_a[i]\n",
        "  return output\n",
        "print(vector_sum(vec_a))\n",
        "\n",
        "def vector_mean(vec_a):\n",
        "  output = 0\n",
        "  for i in range(len(vec_a)):\n",
        "    output += vec_a[i]\n",
        "  average = output / len(vec_a)\n",
        "  return average\n",
        "print(vector_mean(vec_a))"
      ],
      "metadata": {
        "colab": {
          "base_uri": "https://localhost:8080/"
        },
        "id": "kLN8UWnDP4Ul",
        "outputId": "a9201983-4357-46f6-c2ec-521b82b50637"
      },
      "execution_count": 24,
      "outputs": [
        {
          "output_type": "stream",
          "name": "stdout",
          "text": [
            "[4, 10, 18]\n",
            "[5, 7, 9]\n",
            "6\n",
            "2.0\n"
          ]
        }
      ]
    },
    {
      "cell_type": "code",
      "source": [
        "# Multiple inputs, Complete runnable code\n",
        "import numpy as np\n",
        "\n",
        "weights = np.array([0.1, 0.2, 0])\n",
        "\n",
        "def neural_network(input, weights):\n",
        "  pred = np.dot(input, weights)\n",
        "  return pred\n",
        "toes = np.array([8.5, 9.5, 9.9, 9.0])\n",
        "wlrec = np.array([0.65, 0.8, 0.8, 0.8])\n",
        "nfans = np.array([1.2, 1.3, 0.5, 1.0])\n",
        "\n",
        "input = np.array([toes[0], wlrec[0], nfans[0]])\n",
        "pred = neural_network(input, weights)\n",
        "print(pred)\n"
      ],
      "metadata": {
        "colab": {
          "base_uri": "https://localhost:8080/"
        },
        "id": "JDBdpkmwTQCF",
        "outputId": "30d5f442-c0f9-4849-b821-1ab8975dd5d3"
      },
      "execution_count": 28,
      "outputs": [
        {
          "output_type": "stream",
          "name": "stdout",
          "text": [
            "0.9800000000000001\n"
          ]
        }
      ]
    },
    {
      "cell_type": "code",
      "source": [
        "# Making a prediction with multiple outputs\n",
        "weights = [0.3, 0.2, 0.9]\n",
        "\n",
        "def ele_mul(number, vector):\n",
        "  output = [0,0,0]\n",
        "  assert(len(output)==len(vector))\n",
        "  for i in range(len(vector)):\n",
        "    output[i] = number * vector[i]\n",
        "  return output\n",
        "\n",
        "def neural_network(input, weights):\n",
        "  pred = ele_mul(input, weights)\n",
        "  return pred\n",
        "\n",
        "wlrec = [0.65, 0.8, 0.8, 0.9]\n",
        "input = wlrec[0]\n",
        "pred = neural_network(input, weights)\n",
        "print(pred)\n",
        "\n",
        "# Inputs Weights Final predictions\n",
        "# (0.65 * 0.3) = 0.195 = hurt prediction\n",
        "# (0.65 * 0.2) = 0.13 = win prediction\n",
        "# (0.65 * 0.9) = 0.585 = sad prediction"
      ],
      "metadata": {
        "colab": {
          "base_uri": "https://localhost:8080/"
        },
        "id": "V9IoIV9TUB4y",
        "outputId": "7ba18a2d-bedd-44ae-98c5-64abd2ac00b7"
      },
      "execution_count": 32,
      "outputs": [
        {
          "output_type": "stream",
          "name": "stdout",
          "text": [
            "[0.195, 0.13, 0.5850000000000001]\n"
          ]
        }
      ]
    },
    {
      "cell_type": "code",
      "source": [
        "# Predicting with multiple inputs & outputs\n",
        "\n",
        "            #toes  %win  #Fans\n",
        "weights = [ [ 0.1, 0.1, -0.3], # hurt?\n",
        "            [ 0.1, 0.2,  0.0], # win?\n",
        "            [ 0.0, 1.3, 0.1] ] # sad?\n",
        "\n",
        "#  For each output, performing a weighted sum of inputs\n",
        "def w_sum(a,b):\n",
        "  assert(len(a) == len(b))\n",
        "  output = 0\n",
        "  for i in range(len(a)):\n",
        "    output += a[i] * b[i]\n",
        "  return output\n",
        "\n",
        "def vect_mat_mul(vect, matrix):\n",
        "  assert(len(vect) == len(matrix))\n",
        "  output = []\n",
        "  for i in range(len(vect)):\n",
        "    output.append(w_sum(vect, matrix[i]))\n",
        "  return output\n",
        "\n",
        "# An empty network with multiple inputs and outputs\n",
        "\n",
        "def neural_network(input, weights):\n",
        "  pred = vect_mat_mul(input, weights)\n",
        "  return pred\n",
        "\n",
        "# c Inserting one input datapoint\n",
        "toes = [8.5, 9.5, 9.9, 9.0]\n",
        "wlrec = [0.65, 0.8, 0.8, 0.9]\n",
        "nfans = [1.2, 1.3, 0.5, 1.0]\n",
        "\n",
        "input = [toes[0], wlrec[0], nfans[0]]\n",
        "pred = neural_network(input, weights)\n",
        "print(pred)\n",
        "\n",
        "# # toes          % win            # fans\n",
        "#(8.5 * 0.1) + (0.65 * 0.1) + (1.2 * –0.3) = 0.555 = hurt prediction\n",
        "#(8.5 * 0.1) + (0.65 * 0.2) + (1.2 * 0.0) = 0.98 = win prediction\n",
        "#(8.5 * 0.0) + (0.65 * 1.3) + (1.2 * 0.1) = 0.965 = sad prediction"
      ],
      "metadata": {
        "colab": {
          "base_uri": "https://localhost:8080/"
        },
        "id": "9BvmnDOIVr8B",
        "outputId": "38e78da2-d90d-4c16-c70b-32db92f1e268"
      },
      "execution_count": 41,
      "outputs": [
        {
          "output_type": "stream",
          "name": "stdout",
          "text": [
            "[0.555, 0.9800000000000001, 0.9650000000000001]\n"
          ]
        }
      ]
    },
    {
      "cell_type": "code",
      "source": [
        "# predictions on predictions\n",
        "\n",
        "ih_wgt = [ [0.1, 0.2, -0.1],\n",
        "          [-0.1, 0.1, 0.9],\n",
        "           [0.1, 0.4, 0.1]]\n",
        "\n",
        "hp_wgt = [ [0.3, 1.1, -0.3],\n",
        "           [0.1, 0.2, 0.0],\n",
        "           [0.0, 1.3, 0.1]]\n",
        "\n",
        "weights = [ih_wgt, hp_wgt]\n",
        "\n",
        "def neural_network(input, weights):\n",
        "  hid = vect_mat_mul(input, weights[0])\n",
        "  pred = vect_mat_mul(hid, weights[1])\n",
        "  return pred\n",
        "\n",
        "toes = [8.5, 9.5, 9.9, 9.0]\n",
        "wlrec = [0.65,0.8, 0.8, 0.9]\n",
        "nfans = [1.2, 1.3, 0.5, 1.0]\n",
        "\n",
        "input = [toes[0],wlrec[0],nfans[0]]\n",
        "pred = neural_network(input,weights)\n",
        "\n",
        "def neural_network(input, weights):\n",
        "  hid = vect_mat_mul(input,weights[0])\n",
        "  pred = vect_mat_mul(hid,weights[1])\n",
        "  return pred\n",
        "\n",
        "toes = [8.5, 9.5, 9.9, 9.0]\n",
        "wlrec = [0.65,0.8, 0.8, 0.9]\n",
        "nfans = [1.2, 1.3, 0.5, 1.0]\n",
        "\n",
        "input = [toes[0],wlrec[0],nfans[0]]\n",
        "pred = neural_network(input,weights)\n",
        "print(pred)"
      ],
      "metadata": {
        "colab": {
          "base_uri": "https://localhost:8080/"
        },
        "id": "-BOuTeM1X0Xi",
        "outputId": "fba5c5fd-4dab-4b66-f92c-6f93f45d10a6"
      },
      "execution_count": 46,
      "outputs": [
        {
          "output_type": "stream",
          "name": "stdout",
          "text": [
            "[0.21350000000000002, 0.14500000000000002, 0.5065]\n"
          ]
        }
      ]
    },
    {
      "cell_type": "code",
      "source": [
        "# numpy version\n",
        "import numpy as np\n",
        "\n",
        "import numpy as np\n",
        "# toes % win # fans\n",
        "ih_wgt = np.array([\n",
        "[0.1, 0.2, -0.1], # hid[0]\n",
        "[-0.1,0.1, 0.9], # hid[1]\n",
        "[0.1, 0.4, 0.1]]).T # hid[2]\n",
        "\n",
        "# hid[0] hid[1] hid[2]\n",
        "hp_wgt = np.array([\n",
        "[0.3, 1.1, -0.3], # hurt?\n",
        "[0.1, 0.2, 0.0], # win?\n",
        "[0.0, 1.3, 0.1] ]).T # sad?\n",
        "\n",
        "weights = [ih_wgt, hp_wgt]\n",
        "\n",
        "def neural_network(input, weights):\n",
        "  hid = input.dot(weights[0])\n",
        "  pred = hid.dot(weights[1])\n",
        "  return pred\n",
        "\n",
        "toes = np.array([8.5, 9.5, 9.9, 9.0])\n",
        "wlrec = np.array([0.65,0.8, 0.8, 0.9])\n",
        "nfans = np.array([1.2, 1.3, 0.5, 1.0])\n",
        "input = np.array([toes[0],wlrec[0],nfans[0]])\n",
        "pred = neural_network(input,weights)\n",
        "print(pred)\n"
      ],
      "metadata": {
        "colab": {
          "base_uri": "https://localhost:8080/"
        },
        "id": "qeb9G6-aZZ2a",
        "outputId": "4481c43e-dae3-44ae-ade8-c3df90cc4989"
      },
      "execution_count": 47,
      "outputs": [
        {
          "output_type": "stream",
          "name": "stdout",
          "text": [
            "[0.2135 0.145  0.5065]\n"
          ]
        }
      ]
    }
  ]
}